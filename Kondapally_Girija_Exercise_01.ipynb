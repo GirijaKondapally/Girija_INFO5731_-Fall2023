{
  "cells": [
    {
      "cell_type": "markdown",
      "metadata": {
        "id": "view-in-github",
        "colab_type": "text"
      },
      "source": [
        "<a href=\"https://colab.research.google.com/github/GirijaKondapally/Girija_INFO5731_-Fall2023/blob/main/Kondapally_Girija_Exercise_01.ipynb\" target=\"_parent\"><img src=\"https://colab.research.google.com/assets/colab-badge.svg\" alt=\"Open In Colab\"/></a>"
      ]
    },
    {
      "cell_type": "markdown",
      "metadata": {
        "id": "DymRJbxDBCnf"
      },
      "source": [
        "# **The first In-class-exercise (08/30/2023, 40 points in total)**\n",
        "This exercise is due tomorrow 08/31/203 11:59 PM.\n"
      ]
    },
    {
      "cell_type": "markdown",
      "source": [
        "(1) Write a Python program to calculate the area of a rectangle using user-input length and width."
      ],
      "metadata": {
        "id": "FBKvD6O_TY6e"
      }
    },
    {
      "cell_type": "code",
      "source": [
        "rect_breadth= float(input(\"Enter the breadth of rectangle: \\n\"))\n",
        "rect_length= float(input(\"Enter the length of rectangle: \\n\"))\n",
        "rect_area= rect_breadth*rect_length\n",
        "print(\"The area of the rectangle is: \\n\",rect_area)"
      ],
      "metadata": {
        "id": "cikVKDXdTbzE",
        "colab": {
          "base_uri": "https://localhost:8080/"
        },
        "outputId": "c3560bda-76d9-46bf-8502-b6739aad549d"
      },
      "execution_count": 2,
      "outputs": [
        {
          "output_type": "stream",
          "name": "stdout",
          "text": [
            "Enter the breadth of rectangle: \n",
            "3\n",
            "Enter the length of rectangle: \n",
            "4\n",
            "The area of the rectangle is: \n",
            " 12.0\n"
          ]
        }
      ]
    },
    {
      "cell_type": "markdown",
      "source": [
        "(2) Create a program that takes two numbers from the user and swaps their values without using a temporary variable."
      ],
      "metadata": {
        "id": "E9RqrlwdTfvl"
      }
    },
    {
      "cell_type": "code",
      "source": [
        "num_1= float(input(\"Enter the first number: \\n\"))\n",
        "num_2= float(input(\"Enter the second number: \\n\"))\n",
        "num_1, num_2 = num_2, num_1\n",
        "print(\"After swapping the values of number 1 and number 2 are: \\n\" ,num_1,num_2)"
      ],
      "metadata": {
        "id": "4XvRknixTh1g",
        "colab": {
          "base_uri": "https://localhost:8080/"
        },
        "outputId": "1707d607-60d7-4853-f322-1542731d4881"
      },
      "execution_count": 3,
      "outputs": [
        {
          "output_type": "stream",
          "name": "stdout",
          "text": [
            "Enter the first number: \n",
            "2\n",
            "Enter the second number: \n",
            "5\n",
            "After swapping the values of number 1 and number 2 are: \n",
            " 5.0 2.0\n"
          ]
        }
      ]
    },
    {
      "cell_type": "markdown",
      "metadata": {
        "id": "03jb4GZsBkBS"
      },
      "source": [
        "(3) Write a Python program to calculate the length of a string."
      ]
    },
    {
      "cell_type": "code",
      "execution_count": 5,
      "metadata": {
        "id": "YaGLbSHHB8Ej",
        "colab": {
          "base_uri": "https://localhost:8080/"
        },
        "outputId": "e915ea61-b304-4091-e132-9c24dbfc7734"
      },
      "outputs": [
        {
          "output_type": "stream",
          "name": "stdout",
          "text": [
            "Enter the string: \n",
            "Hello\n",
            "5\n"
          ]
        }
      ],
      "source": [
        "string_1= input(\"Enter the string: \\n\")\n",
        "print(len(string_1))"
      ]
    },
    {
      "cell_type": "markdown",
      "metadata": {
        "id": "jJDe71iLB616"
      },
      "source": [
        "(4) Write a Python program to count the number of characters in a string.\n",
        "\n",
        "Sample String : 'google.com‘,\n",
        "\n",
        "Expected Result : {'o': 3, 'g': 2, '.': 1, 'e': 1, 'l': 1, 'm': 1, 'c': 1}"
      ]
    },
    {
      "cell_type": "code",
      "execution_count": 6,
      "metadata": {
        "id": "MtKskTzbCLaU",
        "colab": {
          "base_uri": "https://localhost:8080/"
        },
        "outputId": "87904893-f7b4-46cd-f29a-6d92cd6bfbab"
      },
      "outputs": [
        {
          "output_type": "stream",
          "name": "stdout",
          "text": [
            "{'o': 3, 'm': 1, 'l': 1, 'g': 2, 'e': 1, 'c': 1, '.': 1}\n"
          ]
        }
      ],
      "source": [
        "sample_string= 'google.com'\n",
        "cnt={}\n",
        "for char in sample_string:\n",
        "    if char in cnt:\n",
        "        cnt[char] += 1\n",
        "    else:\n",
        "        cnt[char] = 1\n",
        "print(dict(sorted(cnt.items(), reverse=True)))\n"
      ]
    },
    {
      "cell_type": "markdown",
      "metadata": {
        "id": "55W9AMdXCSpV"
      },
      "source": [
        "(5) Write a Python program to sum all the items in a list."
      ]
    },
    {
      "cell_type": "code",
      "execution_count": 7,
      "metadata": {
        "id": "I57NXsauCec2",
        "colab": {
          "base_uri": "https://localhost:8080/"
        },
        "outputId": "89de4542-9a62-48d4-a7b1-51af4aa37918"
      },
      "outputs": [
        {
          "output_type": "stream",
          "name": "stdout",
          "text": [
            "Sum of items in list: 18\n"
          ]
        }
      ],
      "source": [
        "list_1= [5,6,7]\n",
        "sum = 0\n",
        "for i in list_1:\n",
        "    sum += i\n",
        "print(\"Sum of items in list:\", sum)\n"
      ]
    },
    {
      "cell_type": "markdown",
      "metadata": {
        "id": "4ulBZ6yhCi9F"
      },
      "source": [
        "(6) Write a Python program to get a string from a given string where all occurrences of its first char have been changed to '\\$', except the first char itself.\n",
        "\n",
        "Sample String : 'restart‘,\n",
        "\n",
        "Expected Result : 'resta\\$t'"
      ]
    },
    {
      "cell_type": "code",
      "execution_count": 8,
      "metadata": {
        "id": "Fj0XhwbBCw2o",
        "colab": {
          "base_uri": "https://localhost:8080/"
        },
        "outputId": "a57d69e1-95c3-40fd-d225-55033461372f"
      },
      "outputs": [
        {
          "output_type": "stream",
          "name": "stdout",
          "text": [
            "Result string: resta$t\n"
          ]
        }
      ],
      "source": [
        "string_2 = \"restart\"\n",
        "if string_2:\n",
        "    char_1 = string_2[0]\n",
        "    res = char_1 + string_2[1:].replace(char_1, '$')\n",
        "    print(\"Result string:\", res)\n"
      ]
    },
    {
      "cell_type": "markdown",
      "source": [
        "(7) Create a program that calculates the factorial of a number using a while loop."
      ],
      "metadata": {
        "id": "qVXA3q7ET5JI"
      }
    },
    {
      "cell_type": "code",
      "source": [
        "n1 = int(input(\"Enter a number: \"))\n",
        "if n1 < 0:\n",
        "    print(\"Factorial is not possible if the number is negetive\")\n",
        "else:\n",
        "  factorial = 1\n",
        "  i = 1\n",
        "  while i <= n1:\n",
        "    factorial *= i\n",
        "    i += 1\n",
        "print(\"The factorial of given number is\",factorial)"
      ],
      "metadata": {
        "id": "Lbt7R6UkT7BA",
        "colab": {
          "base_uri": "https://localhost:8080/"
        },
        "outputId": "feeb60e1-62e6-46a6-9a93-d744b961ed34"
      },
      "execution_count": 10,
      "outputs": [
        {
          "output_type": "stream",
          "name": "stdout",
          "text": [
            "Enter a number: 4\n",
            "The factorial of given number is 24\n"
          ]
        }
      ]
    },
    {
      "cell_type": "markdown",
      "source": [
        "(8) Create a program that takes a list of numbers as input and outputs a new list with only the even numbers."
      ],
      "metadata": {
        "id": "6YfbzXMNT--R"
      }
    },
    {
      "cell_type": "code",
      "source": [
        "list_2= []\n",
        "n = int(input(\"enter number of elements:\"))\n",
        "for i in range(1,n+1):\n",
        "  element=int(input(\"enter the element \"))\n",
        "  list_2.append(element)\n",
        "print(\"The input list is \",list_2)\n",
        "even_numbers = []\n",
        "for i in list_2:\n",
        "    if int(i) % 2 == 0:\n",
        "        even_numbers.append(int(i))\n",
        "print(\"Even numbers in the list are:\", even_numbers)\n"
      ],
      "metadata": {
        "id": "54q7wMQPUAKu",
        "colab": {
          "base_uri": "https://localhost:8080/"
        },
        "outputId": "e8d06674-8f17-4101-cfd5-48b42d48359d"
      },
      "execution_count": 11,
      "outputs": [
        {
          "output_type": "stream",
          "name": "stdout",
          "text": [
            "enter number of elements:3\n",
            "enter the element 2\n",
            "enter the element 1\n",
            "enter the element 6\n",
            "The input list is  [2, 1, 6]\n",
            "Even numbers in the list are: [2, 6]\n"
          ]
        }
      ]
    },
    {
      "cell_type": "markdown",
      "metadata": {
        "id": "_bIP7s1MCzue"
      },
      "source": [
        "(9) Write a program with python which could accept two parameter a and b to calculate and output the result of S, where\n",
        "\n",
        "$\\ S=3.14*(1+a/b)^3$\n",
        "\n"
      ]
    },
    {
      "cell_type": "code",
      "execution_count": 12,
      "metadata": {
        "id": "w79QilHXD3Mg",
        "colab": {
          "base_uri": "https://localhost:8080/"
        },
        "outputId": "4573e7ab-0ab6-43b2-f40b-3c65e0169cce"
      },
      "outputs": [
        {
          "output_type": "stream",
          "name": "stdout",
          "text": [
            "enter value of a: 2\n",
            "enter value of b: 4\n",
            "10.5975\n"
          ]
        }
      ],
      "source": [
        "a= float(input(\"enter value of a: \"))\n",
        "b= float(input(\"enter value of b: \"))\n",
        "S=3.14*(1+(a/b))**3\n",
        "print(S)\n"
      ]
    },
    {
      "cell_type": "markdown",
      "metadata": {
        "id": "xCa2bK9aD4Q3"
      },
      "source": [
        "(10) Write a Python program to concatenate following dictionaries to create a new one.\n",
        "\n",
        "Sample Dictionary : dic1={1:10, 2:20}, dic2={3:30, 4:40}, dic3={5:50,6:60},\n",
        "\n",
        "Expected Result : {1: 10, 2: 20, 3: 30, 4: 40, 5: 50, 6: 60}\n"
      ]
    },
    {
      "cell_type": "code",
      "execution_count": 13,
      "metadata": {
        "id": "_z4aLqAbEET1",
        "colab": {
          "base_uri": "https://localhost:8080/"
        },
        "outputId": "b3193db0-59c3-42e2-a118-facc1aa25fe9"
      },
      "outputs": [
        {
          "output_type": "stream",
          "name": "stdout",
          "text": [
            "Expected result:  {1: 1, 2: 2, 3: 3, 4: 4, 5: 5, 6: 6}\n"
          ]
        }
      ],
      "source": [
        "dict1={1:1,2:2}\n",
        "dict2={3:3,4:4}\n",
        "dict3={5:5,6:6}\n",
        "result= {}\n",
        "result.update(dict1)\n",
        "result.update(dict2)\n",
        "result.update(dict3)\n",
        "print(\"Expected result: \",result)"
      ]
    },
    {
      "cell_type": "markdown",
      "source": [
        "(11) Write a Python function that accepts a tuple of integers and returns the largest and smallest elements."
      ],
      "metadata": {
        "id": "bkyZ2xSZUOst"
      }
    },
    {
      "cell_type": "code",
      "source": [
        "tuple_1= (34,48,28,9)\n",
        "largest_number=smallest_number=tuple_1[0]\n",
        "for i in tuple_1:\n",
        "  if i > largest_number:\n",
        "    largest_number = i\n",
        "  elif i < smallest_number:\n",
        "    smallest_number = i\n",
        "print(\"Largest number in tuple:\", largest_number)\n",
        "print(\"Smallest number in tuple:\", smallest_number)"
      ],
      "metadata": {
        "id": "3FdLRBKOUQEd",
        "colab": {
          "base_uri": "https://localhost:8080/"
        },
        "outputId": "09f12941-8d4f-48bd-a624-c77c3fc66111"
      },
      "execution_count": 15,
      "outputs": [
        {
          "output_type": "stream",
          "name": "stdout",
          "text": [
            "Largest number in tuple: 48\n",
            "Smallest number in tuple: 9\n"
          ]
        }
      ]
    },
    {
      "cell_type": "markdown",
      "source": [
        "(12) Write a Python program that counts the frequency of each character in a given string and stores it in a dictionary."
      ],
      "metadata": {
        "id": "O0TVi3gKUTpp"
      }
    },
    {
      "cell_type": "code",
      "source": [
        "string_1 = input(\"Enter a string: \")\n",
        "freq = {}\n",
        "for i in string_1:\n",
        "    if i in freq:\n",
        "        freq[i] += 1\n",
        "    else:\n",
        "        freq[i] = 1\n",
        "print(\"frequency of character:\")\n",
        "for i, count in freq.items():\n",
        "    print(f\"'{i}': {count}\")"
      ],
      "metadata": {
        "id": "lAtfSfZXUU-h",
        "colab": {
          "base_uri": "https://localhost:8080/"
        },
        "outputId": "2d59af87-e116-43b1-8775-63028078d05d"
      },
      "execution_count": 16,
      "outputs": [
        {
          "output_type": "stream",
          "name": "stdout",
          "text": [
            "Enter a string: Hi Hello\n",
            "frequency of character:\n",
            "'H': 2\n",
            "'i': 1\n",
            "' ': 1\n",
            "'e': 1\n",
            "'l': 2\n",
            "'o': 1\n"
          ]
        }
      ]
    },
    {
      "cell_type": "markdown",
      "metadata": {
        "id": "0v48Vqa7FrQh"
      },
      "source": [
        "(13) Write a Python program to check whether an element exists within a tuple."
      ]
    },
    {
      "cell_type": "code",
      "execution_count": 19,
      "metadata": {
        "id": "7WEmgq-DF2P1",
        "colab": {
          "base_uri": "https://localhost:8080/"
        },
        "outputId": "8537c757-050c-4ef7-a1ff-107c6839423f"
      },
      "outputs": [
        {
          "output_type": "stream",
          "name": "stdout",
          "text": [
            "Enter an element to check: 9\n",
            "tuple does not contain element  9\n"
          ]
        }
      ],
      "source": [
        "tuple_1= (1,2,3,4,5,6,7)\n",
        "element= int(input(\"Enter an element to check: \"))\n",
        "if element in tuple_1:\n",
        "    print(\"tuple has element \",element)\n",
        "else:\n",
        "    print(\"tuple does not contain element \",element)"
      ]
    },
    {
      "cell_type": "markdown",
      "metadata": {
        "id": "vD5PYLMuGga_"
      },
      "source": [
        "(14) Write a Python program to find maximum and the minimum value in a set."
      ]
    },
    {
      "cell_type": "code",
      "execution_count": 20,
      "metadata": {
        "id": "t0D5kdJUGjjw",
        "colab": {
          "base_uri": "https://localhost:8080/"
        },
        "outputId": "9cac3eb6-6a26-4ccd-acb0-314231546549"
      },
      "outputs": [
        {
          "output_type": "stream",
          "name": "stdout",
          "text": [
            "Maximum value in the set: 3\n",
            "Minimum value in the set: 1\n"
          ]
        }
      ],
      "source": [
        "set_1 = {1,2,3}\n",
        "print(\"Maximum value in the set:\", max(set_1))\n",
        "print(\"Minimum value in the set:\", min(set_1))"
      ]
    },
    {
      "cell_type": "markdown",
      "metadata": {
        "id": "uHkd-y5VhVWC"
      },
      "source": [
        "(15) Write a Python program to randomly divide the students in this class into six groups for term projects, each group should have at least 4 students but no more than 6 students (including 6). Here is the students list:\n",
        "student_list_fall_2023=['sb1826' ,\n",
        " 'lb0582' ,\n",
        " 'ab1820' ,\n",
        " 'sb1883' ,\n",
        " 'mb1296' ,\n",
        " 'sc1622' ,\n",
        " 'tc0469' ,\n",
        " 'ac1770' ,\n",
        " 'mc1453' ,\n",
        " 'ad1187' ,\n",
        " 'sd0926' ,\n",
        " 'sd1268' ,\n",
        " 'ag1609' ,\n",
        " 'sg1638' ,\n",
        " 'mg1299' ,\n",
        " 'vkk0022' ,\n",
        " 'bk0413' ,\n",
        " 'gk0257' ,\n",
        " 'am2807' ,\n",
        " 'gm0558' ,\n",
        " 'pm0658' ,\n",
        " 'am2346' ,\n",
        " 'rm1090' ,\n",
        " 'sm2364' ,\n",
        " 'sm2747' ,\n",
        " 'sm2343' ,\n",
        " 'vm0597' ,\n",
        " 'htn0086' ,\n",
        " 'sp2075' ,\n",
        " 'gp0306' ,\n",
        " 'lp0502' ,\n",
        " 'sr1508' ,\n",
        " 'vr0331' ,\n",
        " 'yr0180' ,\n",
        " 'as2819' ,\n",
        " 'ss2981' ,\n",
        " 'ns0756' ,\n",
        " 'mt0825' ,\n",
        " 'dt0463' ,\n",
        " 'su0137' ,\n",
        " 'dv0310'\n",
        "]"
      ]
    },
    {
      "cell_type": "code",
      "execution_count": 23,
      "metadata": {
        "id": "3iGbmcOBhTwy",
        "colab": {
          "base_uri": "https://localhost:8080/"
        },
        "outputId": "0792d986-fe34-4dc6-ab87-ff600976cef8"
      },
      "outputs": [
        {
          "output_type": "stream",
          "name": "stdout",
          "text": [
            "Group 1: ['vkk0022', 'ns0756', 'rm1090', 'as2819', 'ac1770']\n",
            "Group 2: ['ab1820', 'dt0463', 'mt0825', 'gk0257']\n",
            "Group 3: ['vr0331', 'mc1453', 'lb0582', 'dv0310', 'sg1638', 'sd1268']\n",
            "Group 4: ['ss2981', 'bk0413', 'tc0469', 'sm2364']\n",
            "Group 5: ['sr1508', 'sb1883', 'gm0558', 'su0137', 'sp2075']\n",
            "Group 6: ['htn0086', 'am2346', 'yr0180', 'vm0597']\n",
            "Group 7: ['sd0926', 'gp0306', 'ag1609', 'sm2747', 'lp0502', 'ad1187']\n",
            "Group 8: ['sm2343', 'mb1296', 'pm0658', 'sb1826']\n"
          ]
        }
      ],
      "source": [
        "import random\n",
        "student_list_fall_2023=['sb1826' , 'lb0582' , 'ab1820' , 'sb1883' , 'mb1296' , 'sc1622' , 'tc0469' , 'ac1770' , 'mc1453' , 'ad1187' , 'sd0926' , 'sd1268' , 'ag1609' , 'sg1638' , 'mg1299' , 'vkk0022' , 'bk0413' , 'gk0257' , 'am2807' , 'gm0558' , 'pm0658' , 'am2346' , 'rm1090' , 'sm2364' , 'sm2747' , 'sm2343' , 'vm0597' , 'htn0086' , 'sp2075' , 'gp0306' , 'lp0502' , 'sr1508' , 'vr0331' , 'yr0180' , 'as2819' , 'ss2981' , 'ns0756' , 'mt0825' , 'dt0463' , 'su0137' , 'dv0310' ]\n",
        "random.shuffle(student_list_fall_2023)\n",
        "groups = []\n",
        "range_group_size = range(4, 7)\n",
        "while len(student_list_fall_2023) >= min(range_group_size):\n",
        "    size_of_group = random.choice(range_group_size)\n",
        "    group = student_list_fall_2023[:size_of_group]\n",
        "    groups.append(group)\n",
        "    student_list_fall_2023 = student_list_fall_2023[size_of_group:]\n",
        "for group_num, group in enumerate(groups, start=1):\n",
        "    print(f\"Group {group_num}: {group}\")"
      ]
    },
    {
      "cell_type": "markdown",
      "metadata": {
        "id": "fmZ9vX20Qs3d"
      },
      "source": [
        "(16) Write a Python program to find the duplicate elements in a given array of integers. Return -1 If there are no such elements."
      ]
    },
    {
      "cell_type": "code",
      "execution_count": 25,
      "metadata": {
        "id": "W8Jw6sWMQs3d",
        "colab": {
          "base_uri": "https://localhost:8080/"
        },
        "outputId": "339e97e4-a3a1-45bd-ac94-6858d50868a7"
      },
      "outputs": [
        {
          "output_type": "stream",
          "name": "stdout",
          "text": [
            "First duplicate element is:  4\n"
          ]
        }
      ],
      "source": [
        "array_1 = [1,2,3,4,5,6,4,7,2,6]\n",
        "elements = set()\n",
        "first_dup = -1\n",
        "for i in array_1:\n",
        "    if i in elements:\n",
        "        dup_element = i\n",
        "        break\n",
        "    elements.add(i)\n",
        "if dup_element != -1:\n",
        "    print(\"First duplicate element is: \",dup_element)\n",
        "else:\n",
        "    print(-1)\n"
      ]
    },
    {
      "cell_type": "markdown",
      "metadata": {
        "id": "hvq4APMhQs3d"
      },
      "source": [
        "(17) Write a Python program to select all the Sundays of a specified year."
      ]
    },
    {
      "cell_type": "code",
      "execution_count": 26,
      "metadata": {
        "id": "ZnoxhSglQs3d",
        "colab": {
          "base_uri": "https://localhost:8080/"
        },
        "outputId": "aec51db6-725c-4485-e8c0-7114079737cc"
      },
      "outputs": [
        {
          "output_type": "stream",
          "name": "stdout",
          "text": [
            "2022-01-02\n",
            "2022-01-09\n",
            "2022-01-16\n",
            "2022-01-23\n",
            "2022-01-30\n",
            "2022-02-06\n",
            "2022-02-13\n",
            "2022-02-20\n",
            "2022-02-27\n",
            "2022-03-06\n",
            "2022-03-13\n",
            "2022-03-20\n",
            "2022-03-27\n",
            "2022-04-03\n",
            "2022-04-10\n",
            "2022-04-17\n",
            "2022-04-24\n",
            "2022-05-01\n",
            "2022-05-08\n",
            "2022-05-15\n",
            "2022-05-22\n",
            "2022-05-29\n",
            "2022-06-05\n",
            "2022-06-12\n",
            "2022-06-19\n",
            "2022-06-26\n",
            "2022-07-03\n",
            "2022-07-10\n",
            "2022-07-17\n",
            "2022-07-24\n",
            "2022-07-31\n",
            "2022-08-07\n",
            "2022-08-14\n",
            "2022-08-21\n",
            "2022-08-28\n",
            "2022-09-04\n",
            "2022-09-11\n",
            "2022-09-18\n",
            "2022-09-25\n",
            "2022-10-02\n",
            "2022-10-09\n",
            "2022-10-16\n",
            "2022-10-23\n",
            "2022-10-30\n",
            "2022-11-06\n",
            "2022-11-13\n",
            "2022-11-20\n",
            "2022-11-27\n",
            "2022-12-04\n",
            "2022-12-11\n",
            "2022-12-18\n",
            "2022-12-25\n"
          ]
        }
      ],
      "source": [
        "from datetime import date, timedelta\n",
        "year= 2022\n",
        "first_date=date(year, 1, 1)\n",
        "day_of_week = first_date.weekday()\n",
        "days_until_sunday = 6 - day_of_week\n",
        "sunday = first_date + timedelta(days=days_until_sunday)\n",
        "while sunday.year == year:\n",
        "    print(sunday.strftime(\"%Y-%m-%d\"))\n",
        "    sunday += timedelta(days=7)\n"
      ]
    },
    {
      "cell_type": "markdown",
      "source": [
        "(18) Build a program that calculates the factorial of a given positive integer. The factorial of a non-negative integer n is the product of all positive integers less than or equal to n."
      ],
      "metadata": {
        "id": "55FWoSJPVVM6"
      }
    },
    {
      "cell_type": "code",
      "source": [
        "n = int(input(\"Enter the number: \"))\n",
        "if n < 0:\n",
        "    print(\"Factorial is not possible if the number is negitive.\")\n",
        "else:\n",
        "    fact = 1\n",
        "    for i in range(1, n+1):\n",
        "      fact = fact * i\n",
        "print(\"The factorial of given number is\",fact)\n",
        "\n"
      ],
      "metadata": {
        "id": "hwtr1wZmVX5A",
        "colab": {
          "base_uri": "https://localhost:8080/"
        },
        "outputId": "6e998cd0-4823-44d6-9421-12ce55f47bba"
      },
      "execution_count": 27,
      "outputs": [
        {
          "output_type": "stream",
          "name": "stdout",
          "text": [
            "Enter the number: 4\n",
            "The factorial of given number is 24\n"
          ]
        }
      ]
    },
    {
      "cell_type": "markdown",
      "source": [
        "(19) Write a program that takes a positive integer n as input and prints the count of even numbers from 1 to n. Use a loop to iterate through the numbers and utilize the break statement to optimize the loop."
      ],
      "metadata": {
        "id": "Q9ecagcaVazW"
      }
    },
    {
      "cell_type": "code",
      "source": [
        "n1 = int(input(\"Enter a positive integer limit: \"))\n",
        "if n1 <= 0:\n",
        "    print(\"Enter positive integer.\")\n",
        "else:\n",
        "    even_numbers_cnt = 0\n",
        "    for i in range(1, n1+1):\n",
        "        if i % 2 == 0:\n",
        "            even_numbers_cnt += 1\n",
        "        if even_numbers_cnt == n1 // 2:\n",
        "            break\n",
        "    print(f\"Number of even numbers from 1 to {n1} is {even_numbers_cnt}\")\n"
      ],
      "metadata": {
        "id": "gycgckoAVZjR",
        "colab": {
          "base_uri": "https://localhost:8080/"
        },
        "outputId": "308967ff-5adb-4821-aacd-2768bc2b635b"
      },
      "execution_count": 29,
      "outputs": [
        {
          "output_type": "stream",
          "name": "stdout",
          "text": [
            "Enter a positive integer limit: 10\n",
            "Number of even numbers from 1 to 10 is 5\n"
          ]
        }
      ]
    },
    {
      "cell_type": "markdown",
      "source": [
        "(20) Write a Python function called count_vowels that takes a string as input and returns the count of vowels (both lowercase and uppercase) present in the string. Consider the vowels to be 'a', 'e', 'i', 'o', and 'u'. Ignore spaces and other non-alphabetic characters."
      ],
      "metadata": {
        "id": "cboAr5pEWUf5"
      }
    },
    {
      "cell_type": "code",
      "source": [
        "def count_vowels(string_1):\n",
        "    vowels = set(\"aeiouAEIOU\") #used set to initialize the vowels as sets are un-oredrd\n",
        "    cnt_vowels = 0\n",
        "    for i in string_1:\n",
        "        if i.isalpha() and i in vowels:\n",
        "            cnt_vowels += 1   #if the charecter is an vowel then the count is added to count_of_vowels\n",
        "    return cnt_vowels\n",
        "string_1 = input(\"Enter a string: \")#taking the input\n",
        "result = count_vowels(string_1)\n",
        "print(\"Count of vowels:\", result)\n"
      ],
      "metadata": {
        "id": "phs9gciMWWAW",
        "colab": {
          "base_uri": "https://localhost:8080/"
        },
        "outputId": "46c05890-51c7-4551-92a3-4a651848de64"
      },
      "execution_count": 30,
      "outputs": [
        {
          "output_type": "stream",
          "name": "stdout",
          "text": [
            "Enter a string: Datascience\n",
            "Count of vowels: 5\n"
          ]
        }
      ]
    },
    {
      "cell_type": "code",
      "source": [],
      "metadata": {
        "id": "JBQV71ltqLU7"
      },
      "execution_count": null,
      "outputs": []
    },
    {
      "cell_type": "code",
      "source": [],
      "metadata": {
        "id": "_5k6AMo1qIEB"
      },
      "execution_count": null,
      "outputs": []
    }
  ],
  "metadata": {
    "colab": {
      "provenance": [],
      "include_colab_link": true
    },
    "kernelspec": {
      "display_name": "Python 3 (ipykernel)",
      "language": "python",
      "name": "python3"
    },
    "language_info": {
      "codemirror_mode": {
        "name": "ipython",
        "version": 3
      },
      "file_extension": ".py",
      "mimetype": "text/x-python",
      "name": "python",
      "nbconvert_exporter": "python",
      "pygments_lexer": "ipython3",
      "version": "3.9.12"
    }
  },
  "nbformat": 4,
  "nbformat_minor": 0
}