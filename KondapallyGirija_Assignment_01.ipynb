{
  "cells": [
    {
      "cell_type": "markdown",
      "metadata": {
        "id": "view-in-github",
        "colab_type": "text"
      },
      "source": [
        "<a href=\"https://colab.research.google.com/github/GirijaKondapally/Girija_INFO5731_-Fall2023/blob/main/KondapallyGirija_Assignment_01.ipynb\" target=\"_parent\"><img src=\"https://colab.research.google.com/assets/colab-badge.svg\" alt=\"Open In Colab\"/></a>"
      ]
    },
    {
      "cell_type": "markdown",
      "metadata": {
        "id": "Ryk8D1Q4Wsrp"
      },
      "source": [
        "# **INFO5731 Assignment One**"
      ]
    },
    {
      "cell_type": "markdown",
      "metadata": {
        "id": "90_NR8c5XGWc"
      },
      "source": [
        "# Question 1\n",
        "\n",
        "(20 points). Write a Python program to generate 12 random numbers between 1 and 100. Sort the list of numbers in ascending order and print it out. Sort the list of numbers in descending order and print it out. Calculate the average for the group and print it out."
      ]
    },
    {
      "cell_type": "code",
      "execution_count": null,
      "metadata": {
        "id": "5QX6bJjGWXY9",
        "colab": {
          "base_uri": "https://localhost:8080/"
        },
        "outputId": "71a39c2b-d98f-4c22-c0ec-9c3aafe1a2bf"
      },
      "outputs": [
        {
          "output_type": "stream",
          "name": "stdout",
          "text": [
            "Generated random numbers: [82, 89, 63, 95, 26, 92, 6, 23, 92, 13, 2, 88]\n",
            "Sorted in ascending order: [2, 6, 13, 23, 26, 63, 82, 88, 89, 92, 92, 95]\n",
            "Sorted in descending order: [95, 92, 92, 89, 88, 82, 63, 26, 23, 13, 6, 2]\n",
            "Average of the numbers: 55.916666666666664\n"
          ]
        }
      ],
      "source": [
        "import random\n",
        "\n",
        "# Using random module to get the random numbers\n",
        "random_num = [random.randint(1, 100) for _ in range(12)]\n",
        "print(\"Generated random numbers:\", random_num)\n",
        "\n",
        "#by using sorted method it sorts ascending order of random numbers\n",
        "asc_order = sorted(random_num)\n",
        "print(\"Sorted in ascending order:\", asc_order)\n",
        "\n",
        "#reverse is true then descending order\n",
        "dsc_order = sorted(random_num, reverse=True)\n",
        "print(\"Sorted in descending order:\", dsc_order)\n",
        "\n",
        "#Calculating the average\n",
        "avg = sum(random_num) / len(random_num)\n",
        "print(\"Average of the numbers:\", avg)\n",
        "\n"
      ]
    },
    {
      "cell_type": "markdown",
      "metadata": {
        "id": "1F_PZdH9Sh49"
      },
      "source": [
        "# Question 2\n",
        "(25 points).\n",
        "\n",
        "Write a program that will do the following string formatting tasks:\n",
        "\n",
        "(1) Ask the user to enter two sentences.\n",
        "\n",
        "(2) Make each sentence into a list. Each element in the list should correspond to a word in the sentence. For example, if the sentence is \"Alas! Am I alive? This is my first python program\", the program should print out ['Alas, '!', 'Am', 'I', 'alive, '?', 'This', 'is', 'my', 'first', 'python', 'program'].\n",
        "\n",
        "(3) Compare the two sentences. Print out a list of words that occur in both sentences.\n",
        "\n",
        "(4) Remove any punctuation from the sentence and print it back out. It should remove at least the following characters, but it can remove more: period(“.”), comma (“,”), semicolon (“;”), and colon (“:”)\n",
        "\n",
        "(5) Count the number of vowels in the sentences. Print out each vowel and the number of times it appears in the sentences, such as: a:2, e:1, i:0, etc"
      ]
    },
    {
      "cell_type": "code",
      "execution_count": null,
      "metadata": {
        "id": "Y0oOSlsOS0cq",
        "colab": {
          "base_uri": "https://localhost:8080/"
        },
        "outputId": "410c68ab-d607-47d2-8a90-710e3df0f1ed"
      },
      "outputs": [
        {
          "output_type": "stream",
          "name": "stdout",
          "text": [
            "Enter the first sentence: I am Girija\n",
            "Enter the second sentence: I am 23 yrs old\n",
            "['I', 'am', 'Girija']\n",
            "['I', 'am', '23', 'yrs', 'old']\n",
            "Common words in both sentences: ['I', 'am']\n",
            "First sentence without punctuation: I am Girija\n",
            "Second sentence without punctuation: I am 23 yrs old\n",
            "Count of vowels in the first input sentence: {'a': 2, 'e': 0, 'i': 3, 'o': 0, 'u': 0, 'A': 0, 'E': 0, 'I': 0, 'O': 0, 'U': 0}\n",
            "Count of vowels in the second input sentence: {'a': 2, 'e': 0, 'i': 3, 'o': 0, 'u': 0, 'A': 0, 'E': 0, 'I': 0, 'O': 0, 'U': 0}\n"
          ]
        }
      ],
      "source": [
        "import string\n",
        "\n",
        "# creating function to split a sentence into words and remove punctuation\n",
        "def splt_sentence(sentence):\n",
        "  words = []\n",
        "  word = ''\n",
        "  for char in sentence:\n",
        "    if char.isalnum() or char in string.punctuation:\n",
        "      word += char\n",
        "    else:\n",
        "      if word:\n",
        "        words.append(word)\n",
        "      word = ''\n",
        "  if word:\n",
        "    words.append(word)\n",
        "  return words\n",
        "\n",
        "def remove_punctuation(sentence):\n",
        "  #Remove punctuation\n",
        "  translator = str.maketrans('', '', string.punctuation)\n",
        "  clean_sentence = sentence.translate(translator)\n",
        "  return clean_sentence\n",
        "\n",
        "#count vowels\n",
        "def count_of_vowels(sentence):\n",
        "  vowels_upper_lower = \"aeiouAEIOU\"\n",
        "  vowel_count = {vowel: 0 for vowel in vowels_upper_lower}\n",
        "  for char in sentence:\n",
        "    if char in vowels_upper_lower:\n",
        "      vowel_count[char.lower()] += 1\n",
        "  return vowel_count\n",
        "\n",
        "\n",
        "sentence_1 = input(\"Enter the first sentence: \")\n",
        "sentence_2 = input(\"Enter the second sentence: \")\n",
        "\n",
        "#splitting sentences into lists\n",
        "split_sent1 = splt_sentence(sentence_1)\n",
        "split_sent2 = splt_sentence(sentence_2)\n",
        "print(split_sent1)\n",
        "print(split_sent2)\n",
        "\n",
        "#comparing two sentences and finding common words\n",
        "common_words = list(set(split_sent1) & set(split_sent2))\n",
        "print(\"Common words in both sentences:\", common_words)\n",
        "\n",
        "#remove punctuation\n",
        "pun_sentence1 = remove_punctuation(sentence_1)\n",
        "pun_sentence2 = remove_punctuation(sentence_2)\n",
        "print(\"First sentence without punctuation:\", pun_sentence1)\n",
        "print(\"Second sentence without punctuation:\", pun_sentence2)\n",
        "\n",
        "#counting vowels\n",
        "vowel_count1 = count_of_vowels(pun_sentence1)\n",
        "vowel_count2 = count_of_vowels(pun_sentence1)\n",
        "\n",
        "print(\"Count of vowels in the first input sentence:\", vowel_count1)\n",
        "print(\"Count of vowels in the second input sentence:\", vowel_count2)"
      ]
    },
    {
      "cell_type": "markdown",
      "metadata": {
        "id": "CmFoI4jDS9nx"
      },
      "source": [
        "# Question 3\n",
        "\n",
        "(15 points). The formula that describes the volume V of a sphere with radius r is the following:\n",
        "\n",
        "$ V=\\frac{4}{3}\\ast\\ \\pi\\ast\\ r^3 $\n",
        "\n",
        "Write a program to calculate the value of V when r is in the range of 1–10. Output the result in the following format:\n",
        "\n",
        "\tr\tV\n",
        "\t1\t…\n",
        "\t2\t…\n",
        "\t3\t…\n"
      ]
    },
    {
      "cell_type": "code",
      "execution_count": null,
      "metadata": {
        "id": "pEyqeioAT95b",
        "colab": {
          "base_uri": "https://localhost:8080/"
        },
        "outputId": "9b8c2a8b-45a9-47d6-abd6-5e2e8c3b7fb1"
      },
      "outputs": [
        {
          "output_type": "stream",
          "name": "stdout",
          "text": [
            "r    V\n",
            "1    4.19\n",
            "2    33.51\n",
            "3    113.10\n",
            "4    268.08\n",
            "5    523.60\n",
            "6    904.78\n",
            "7    1436.76\n",
            "8    2144.66\n",
            "9    3053.63\n",
            "10    4188.79\n"
          ]
        }
      ],
      "source": [
        "import math\n",
        "\n",
        "# Print header\n",
        "print(\"r    V\")\n",
        "\n",
        "for r in range(1, 11):\n",
        "  V = (4/3) * math.pi * (r ** 3)\n",
        "  print(f\"{r}    {V:.2f}\")"
      ]
    },
    {
      "cell_type": "markdown",
      "metadata": {
        "id": "z3tBE7E-Xn5X"
      },
      "source": [
        "# Question 4\n",
        "\n",
        "(40 points). In the field of Data Science, data is often formatted as a comma-delimited (CSV) file, where each line in a file corresponds to a field's value. Refer to Chapter 9 (p. 106) for more information on comma-delimited files. To answer this question, you will need to download the file [Assignment1_denton_housing.csv](https://raw.githubusercontent.com/unt-iialab/info5731-spring2022/main/assignments/Assignment1_denton_housing.csv) included with this assignment. The file [Assignment1_denton_housing.csv](https://raw.githubusercontent.com/unt-iialab/info5731-spring2022/main/assignments/Assignment1_denton_housing.csv) contains statistics about housing in the city of Denton from 2008 to 2014. Write a program to implement the following questions.\n",
        "\n",
        "(1) (10 pts) Calculate the difference in the number of Occupied Housing Units from year to year and print it. The difference must be calculated for the consecutive years such as 2008-2009, 2009-2010 etc. Finally, print the values in the ascending order.\n",
        "\n",
        "(2) (10 pts) For all the years, calculate the percentage of housing units which are vacant an occupied. Print the results in the following format:\n",
        "\n",
        "Year Vacant Housing Units Occupied Housing Units\n",
        "\n",
        "    2008  30%   70%                          \n",
        "\t2009 ----- -----\n",
        "\t2010 ----- -----\n",
        "    2011 ----- -----\n",
        "\t2012 ----- -----\n",
        "    2013 ----- -----\n",
        "\t2014 ----- -----\n",
        "  \n",
        "  \n",
        "\n",
        "(3) (10 pts) Calculate and print the valued and years in which the highest number of housing units were vacant and occupied. Print the results in the following format:  \n",
        "\n",
        "                              Year\tValue\n",
        "\tVacant Housing Units\t  -----   -----\n",
        "\tOccupied Housing Units\t-----   -----\n",
        "\n",
        "(4) (10 pts) Calculate the harmonic mean of the total housing units and print it out. You can find the information about harmonic mean here: https://ncalculators.com/statistics/harmonic-mean-calculator.htm"
      ]
    },
    {
      "cell_type": "code",
      "execution_count": 17,
      "metadata": {
        "id": "lqGYuHBhcsRH",
        "colab": {
          "base_uri": "https://localhost:8080/"
        },
        "outputId": "cbd2f075-02fe-4687-c531-263039c15bba"
      },
      "outputs": [
        {
          "output_type": "stream",
          "name": "stdout",
          "text": [
            "17    -795.0\n",
            "11    -303.0\n",
            "8     1404.0\n",
            "5     1565.0\n",
            "2     2622.0\n",
            "14    5091.0\n",
            "Name: value, dtype: float64\n",
            "Year  Vacant Housing Units   Occupied Housing Units\n",
            "2008    10.88%                 89.12%\n",
            "2009    9.07%                 90.93%\n",
            "2010    8.14%                 91.86%\n",
            "2011    9.38%                 90.62%\n",
            "2012    6.68%                 93.32%\n",
            "2013    8.80%                 91.20%\n",
            "2014    5.73%                 94.27%\n",
            "Year     Value\n",
            "Vacant Housing Units      2008       4483\n",
            "Occupied Housing Units    2008       4483\n",
            "Harmonic mean of Total Housing Units is: 3657.434087880617\n"
          ]
        }
      ],
      "source": [
        "import pandas as pd\n",
        "import numpy as np\n",
        "\n",
        "file_path = \"/Assignment1_denton_housing.csv\"\n",
        "df = pd.read_csv(file_path)\n",
        "\n",
        "#including rows with only Occupied Housing Units\n",
        "occupied_housing_units = df[df['title_field'] == 'Occupied Housing Units']\n",
        "\n",
        "#(1)-----------------------------------------------\n",
        "\n",
        "#sorting by year\n",
        "occupied_housing_units= occupied_housing_units.sort_values('year')\n",
        "\n",
        "difference_between_years = occupied_housing_units['value'].diff().dropna()\n",
        "\n",
        "#ascending order sorting\n",
        "diff_betw_years_asc= difference_between_years.sort_values()\n",
        "\n",
        "print(diff_betw_years_asc)\n",
        "\n",
        "#(2)-----------------------------------------------\n",
        "\n",
        "pivot_df = df.pivot(index='year', columns='title_field', values='value')\n",
        "\n",
        "# Calculating the percentage of vacant and occupied housing units\n",
        "pivot_df['Percentage_of_vhu'] = (pivot_df['Vacant Housing Units'] / pivot_df['Total Housing Units']) * 100\n",
        "pivot_df['Percentage_of_ohu'] = (pivot_df['Occupied Housing Units'] / pivot_df['Total Housing Units']) * 100\n",
        "\n",
        "print(\"Year  Vacant Housing Units   Occupied Housing Units\")\n",
        "for year, row in pivot_df.iterrows():\n",
        "  print(f\"{year}    {row['Percentage_of_vhu']:.2f}%                 {row['Percentage_of_ohu']:.2f}%\")\n",
        "\n",
        "#(3)-----------------------------------------------\n",
        "\n",
        "vacant_housing_units_df = df[df['title_field'] == 'Vacant Housing Units']\n",
        "occupied_housing_using_df = df[df['title_field'] == 'Occupied Housing Units']\n",
        "\n",
        "#using function max we are finding the hishest values\n",
        "highest_year_value_of_vcnt_hsng_unt = vacant_housing_units_df.loc[vacant_housing_units_df['value'].idxmax()]\n",
        "highest_year_value_of_occ_hsng_unt = occupied_housing_using_df.loc[occupied_housing_using_df['value'].idxmax()]\n",
        "\n",
        "print(\"Year     Value\")\n",
        "print(f\"Vacant Housing Units      {highest_year_value_of_vcnt_hsng_unt['year']}       {highest_year_value_of_vcnt_hsng_unt['value']}\")\n",
        "print(f\"Occupied Housing Units    {highest_year_value_of_vcnt_hsng_unt['year']}       {highest_year_value_of_vcnt_hsng_unt['value']}\")\n",
        "\n",
        "#(4)------------------------------------------------\n",
        "\n",
        "#calculating harmonic mean\n",
        "harmonic_mean=len(df) / np.sum(1 / df['value'])\n",
        "print(\"Harmonic mean of Total Housing Units is:\", harmonic_mean)"
      ]
    },
    {
      "cell_type": "code",
      "source": [
        "from google.colab import drive\n",
        "drive.mount('/content/drive')"
      ],
      "metadata": {
        "colab": {
          "base_uri": "https://localhost:8080/"
        },
        "id": "fmonbMjAEXvW",
        "outputId": "e9af1d8d-9d49-4583-a261-92d2187c92b7"
      },
      "execution_count": null,
      "outputs": [
        {
          "output_type": "stream",
          "name": "stdout",
          "text": [
            "Drive already mounted at /content/drive; to attempt to forcibly remount, call drive.mount(\"/content/drive\", force_remount=True).\n"
          ]
        }
      ]
    },
    {
      "cell_type": "code",
      "source": [],
      "metadata": {
        "id": "n4iIIW4KEdMC"
      },
      "execution_count": null,
      "outputs": []
    }
  ],
  "metadata": {
    "colab": {
      "provenance": [],
      "include_colab_link": true
    },
    "kernelspec": {
      "display_name": "Python 3 (ipykernel)",
      "language": "python",
      "name": "python3"
    },
    "language_info": {
      "codemirror_mode": {
        "name": "ipython",
        "version": 3
      },
      "file_extension": ".py",
      "mimetype": "text/x-python",
      "name": "python",
      "nbconvert_exporter": "python",
      "pygments_lexer": "ipython3",
      "version": "3.9.12"
    }
  },
  "nbformat": 4,
  "nbformat_minor": 0
}