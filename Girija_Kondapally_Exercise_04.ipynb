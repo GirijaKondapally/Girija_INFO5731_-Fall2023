{
  "cells": [
    {
      "cell_type": "markdown",
      "metadata": {
        "id": "view-in-github",
        "colab_type": "text"
      },
      "source": [
        "<a href=\"https://colab.research.google.com/github/GirijaKondapally/Girija_INFO5731_-Fall2023/blob/main/Girija_Kondapally_Exercise_04.ipynb\" target=\"_parent\"><img src=\"https://colab.research.google.com/assets/colab-badge.svg\" alt=\"Open In Colab\"/></a>"
      ]
    },
    {
      "cell_type": "markdown",
      "metadata": {
        "id": "ne3WYt34BxRb"
      },
      "source": [
        "# **The fourth in-class-exercise (40 points in total, 03/28/2022)**"
      ]
    },
    {
      "cell_type": "markdown",
      "metadata": {
        "id": "xwS3L--iBxRf"
      },
      "source": [
        "Question description: Please use the text corpus you collected in your last in-class-exercise for this exercise. Perform the following tasks:"
      ]
    },
    {
      "cell_type": "markdown",
      "metadata": {
        "id": "NOP_fNaIBxRf"
      },
      "source": [
        "## (1) (10 points) Generate K topics by using LDA, the number of topics K should be decided by the coherence score, then summarize what are the topics. You may refer the code here:\n",
        "\n",
        "https://www.machinelearningplus.com/nlp/topic-modeling-gensim-python/"
      ]
    },
    {
      "cell_type": "code",
      "source": [
        "import nltk\n",
        "nltk.download('stopwords')"
      ],
      "metadata": {
        "colab": {
          "base_uri": "https://localhost:8080/"
        },
        "id": "ztceYS03DwUc",
        "outputId": "3d495a48-3d58-45fc-a1c2-dfbd00eb689b"
      },
      "execution_count": 3,
      "outputs": [
        {
          "output_type": "stream",
          "name": "stderr",
          "text": [
            "[nltk_data] Downloading package stopwords to /root/nltk_data...\n",
            "[nltk_data]   Unzipping corpora/stopwords.zip.\n"
          ]
        },
        {
          "output_type": "execute_result",
          "data": {
            "text/plain": [
              "True"
            ]
          },
          "metadata": {},
          "execution_count": 3
        }
      ]
    },
    {
      "cell_type": "code",
      "source": [
        "import nltk\n",
        "nltk.download('punkt')"
      ],
      "metadata": {
        "colab": {
          "base_uri": "https://localhost:8080/"
        },
        "id": "DdATtL9lD69N",
        "outputId": "e5b71682-05de-4b5e-9733-0a0ff9923d22"
      },
      "execution_count": 5,
      "outputs": [
        {
          "output_type": "stream",
          "name": "stderr",
          "text": [
            "[nltk_data] Downloading package punkt to /root/nltk_data...\n",
            "[nltk_data]   Unzipping tokenizers/punkt.zip.\n"
          ]
        },
        {
          "output_type": "execute_result",
          "data": {
            "text/plain": [
              "True"
            ]
          },
          "metadata": {},
          "execution_count": 5
        }
      ]
    },
    {
      "cell_type": "code",
      "execution_count": 7,
      "metadata": {
        "colab": {
          "base_uri": "https://localhost:8080/",
          "height": 943
        },
        "id": "3FxVX4x2BxRg",
        "outputId": "9f07327c-70bd-4c71-b336-11c68c90c8a4"
      },
      "outputs": [
        {
          "output_type": "stream",
          "name": "stderr",
          "text": [
            "WARNING:gensim.models.ldamodel:too few updates, training might not converge; consider increasing the number of passes or iterations to improve accuracy\n",
            "WARNING:gensim.models.ldamodel:too few updates, training might not converge; consider increasing the number of passes or iterations to improve accuracy\n",
            "WARNING:gensim.models.ldamodel:too few updates, training might not converge; consider increasing the number of passes or iterations to improve accuracy\n",
            "WARNING:gensim.models.ldamodel:too few updates, training might not converge; consider increasing the number of passes or iterations to improve accuracy\n",
            "WARNING:gensim.models.ldamodel:too few updates, training might not converge; consider increasing the number of passes or iterations to improve accuracy\n"
          ]
        },
        {
          "output_type": "stream",
          "name": "stdout",
          "text": [
            "Coherence Score for K=2: 0.3194665776025782\n",
            "Coherence Score for K=3: 0.319466577602578\n",
            "Coherence Score for K=4: 0.3194665776025781\n",
            "Coherence Score for K=5: 0.31946657760257813\n"
          ]
        },
        {
          "output_type": "stream",
          "name": "stderr",
          "text": [
            "WARNING:gensim.models.ldamodel:too few updates, training might not converge; consider increasing the number of passes or iterations to improve accuracy\n",
            "WARNING:gensim.models.ldamodel:too few updates, training might not converge; consider increasing the number of passes or iterations to improve accuracy\n",
            "WARNING:gensim.models.ldamodel:too few updates, training might not converge; consider increasing the number of passes or iterations to improve accuracy\n"
          ]
        },
        {
          "output_type": "stream",
          "name": "stdout",
          "text": [
            "Coherence Score for K=6: 0.3194665776025781\n",
            "Coherence Score for K=7: 0.3194665776025781\n",
            "Coherence Score for K=8: 0.31946657760257813\n"
          ]
        },
        {
          "output_type": "stream",
          "name": "stderr",
          "text": [
            "WARNING:gensim.models.ldamodel:too few updates, training might not converge; consider increasing the number of passes or iterations to improve accuracy\n"
          ]
        },
        {
          "output_type": "stream",
          "name": "stdout",
          "text": [
            "Coherence Score for K=9: 0.31946657760257813\n",
            "Coherence Score for K=10: 0.31946657760257813\n",
            "Optimal number of topics (K): 2 with coherence score: 0.3194665776025782\n"
          ]
        },
        {
          "output_type": "display_data",
          "data": {
            "text/plain": [
              "<Figure size 640x480 with 1 Axes>"
            ],
            "image/png": "[encoded data removed]"
          },
          "metadata": {}
        },
        {
          "output_type": "stream",
          "name": "stderr",
          "text": [
            "WARNING:gensim.models.ldamodel:too few updates, training might not converge; consider increasing the number of passes or iterations to improve accuracy\n"
          ]
        },
        {
          "output_type": "stream",
          "name": "stdout",
          "text": [
            "(0, '0.175*\"movie\" + 0.114*\"watch\" + 0.095*\"could\" + 0.093*\"one\" + 0.092*\"average\"')\n",
            "(1, '0.226*\"movie\" + 0.131*\"watch\" + 0.085*\"fabulous\" + 0.082*\"recommneded\" + 0.082*\"gona\"')\n",
            "Topic 0:\n",
            "Keywords: movie, watch, could, one, average\n",
            "Topic 1:\n",
            "Keywords: movie, watch, fabulous, recommneded, gona\n"
          ]
        }
      ],
      "source": [
        "# Write your code here\n",
        "sample_data= [\"This movie is fabulous!!!. I am gona watch it again.\",\n",
        "    \"This movie is a disaster. Not recommneded.\",\n",
        "    \"This is movie an average movie. could be a one time watch.\"]\n",
        "import gensim\n",
        "from gensim import corpora\n",
        "from gensim.models import LdaModel\n",
        "from gensim.models import CoherenceModel\n",
        "from nltk.corpus import stopwords\n",
        "from nltk.tokenize import word_tokenize\n",
        "import matplotlib.pyplot as plt\n",
        "\n",
        "# Preprocessing\n",
        "stop_words = set(stopwords.words('english'))\n",
        "tokenized_data = [word_tokenize(doc.lower()) for doc in sample_data]\n",
        "tokenized_data = [[word for word in doc if word.isalnum() and word not in stop_words] for doc in tokenized_data]\n",
        "\n",
        "# Creating dictionary and corpus\n",
        "dictionary = corpora.Dictionary(tokenized_data)\n",
        "corpus = [dictionary.doc2bow(doc) for doc in tokenized_data]\n",
        "\n",
        "# Determine the optimal number of topics (K)\n",
        "coherence_scores = []\n",
        "for k in range(2, 11):\n",
        "    lda_model = LdaModel(corpus=corpus, id2word=dictionary, num_topics=k)\n",
        "    coherence_model = CoherenceModel(model=lda_model, texts=tokenized_data, dictionary=dictionary, coherence='c_v')\n",
        "    coherence_score = coherence_model.get_coherence()\n",
        "    coherence_scores.append((k, coherence_score))\n",
        "    print(f\"Coherence Score for K={k}: {coherence_score}\")\n",
        "\n",
        "# Choose the K value with the highest coherence score\n",
        "best_k, best_coherence = max(coherence_scores, key=lambda x: x[1])\n",
        "print(f\"Optimal number of topics (K): {best_k} with coherence score: {best_coherence}\")\n",
        "\n",
        "# Plot\n",
        "k_values, coherence_scores = zip(*coherence_scores)\n",
        "plt.plot(k_values, coherence_scores)\n",
        "plt.xlabel(\"Number of Topics (K)\")\n",
        "plt.ylabel(\"Coherence Score\")\n",
        "plt.title(\"Coherence Score vs. Number of Topics\")\n",
        "plt.show()\n",
        "\n",
        "# Train the LDA model with the optimal K\n",
        "lda_model = LdaModel(corpus=corpus, id2word=dictionary, num_topics=best_k)\n",
        "\n",
        "# Interpret the topics\n",
        "topics = lda_model.print_topics(num_words=5)\n",
        "for topic in topics:\n",
        "    print(topic)\n",
        "\n",
        "topics = lda_model.print_topics(num_words=5)\n",
        "for topic_id, topic_words in topics:\n",
        "    print(f\"Topic {topic_id}:\")\n",
        "    words = [word for word, _ in lda_model.show_topic(topic_id, topn=5)]\n",
        "    topic_definition = \", \".join(words)\n",
        "    print(f\"Keywords: {topic_definition}\")\n",
        "\n",
        "\n",
        "\n"
      ]
    },
    {
      "cell_type": "markdown",
      "metadata": {
        "id": "7Hs2RUT1BxRh"
      },
      "source": [
        "## (2) (10 points) Generate K topics by using LSA, the number of topics K should be decided by the coherence score, then summarize what are the topics. You may refer the code here:\n",
        "\n",
        "https://www.datacamp.com/community/tutorials/discovering-hidden-topics-python"
      ]
    },
    {
      "cell_type": "code",
      "execution_count": 9,
      "metadata": {
        "colab": {
          "base_uri": "https://localhost:8080/",
          "height": 633
        },
        "id": "gghop4akBxRi",
        "outputId": "32254024-5533-4968-827b-4e3ddb8ecc8e"
      },
      "outputs": [
        {
          "output_type": "display_data",
          "data": {
            "text/plain": [
              "<Figure size 800x600 with 1 Axes>"
            ],
            "image/png": "[encoded data removed]"
          },
          "metadata": {}
        },
        {
          "output_type": "stream",
          "name": "stdout",
          "text": [
            "Optimal number of topics: 5\n",
            "Topic 1: watch gona fabulous time average\n",
            "Topic 2: recommneded disaster average time watch\n",
            "Topic 3: gona fabulous recommneded disaster watch\n"
          ]
        }
      ],
      "source": [
        "# Write your code here\n",
        "# Import necessary libraries\n",
        "from sklearn.feature_extraction.text import TfidfVectorizer\n",
        "from sklearn.decomposition import TruncatedSVD\n",
        "from sklearn.metrics.pairwise import cosine_similarity\n",
        "import matplotlib.pyplot as plt\n",
        "\n",
        "# Sample data\n",
        "sample_data= [\"This movie is fabulous!!!. I am gona watch it again.\",\n",
        "    \"This movie is a disaster. Not recommneded.\",\n",
        "    \"This is movie an average movie. could be a one time watch.\"\n",
        "]\n",
        "\n",
        "# Preprocessing\n",
        "from sklearn.feature_extraction.text import ENGLISH_STOP_WORDS\n",
        "\n",
        "# function for text preprocessing\n",
        "def preprocess_text(text):\n",
        "    # Convert to lowercase\n",
        "    text = text.lower()\n",
        "    # Remove punctuation and numbers\n",
        "    text = ''.join([char for char in text if char.isalpha() or char.isspace()])\n",
        "    # Remove stopwords\n",
        "    text = ' '.join([word for word in text.split() if word not in ENGLISH_STOP_WORDS])\n",
        "    return text\n",
        "\n",
        "preprocessed_data = [preprocess_text(text) for text in sample_data]\n",
        "\n",
        "# document-term matrix using TfidfVectorizer\n",
        "vectorizer = TfidfVectorizer(max_df=0.85, max_features=50, stop_words='english')\n",
        "dtm = vectorizer.fit_transform(preprocessed_data)\n",
        "\n",
        "# calculate coherence score\n",
        "def calculate_coherence_score(lsa_model, dtm):\n",
        "    # Calculate the cosine similarity between topic vectors\n",
        "    topic_similarity = cosine_similarity(lsa_model.components_)\n",
        "\n",
        "    coherence_score = 0\n",
        "    for i in range(len(topic_similarity) - 1):\n",
        "        for j in range(i + 1, len(topic_similarity)):\n",
        "            # Calculate the cosine similarity between topic vectors i and j\n",
        "            similarity_score = topic_similarity[i].dot(topic_similarity[j])\n",
        "            coherence_score += similarity_score\n",
        "    return coherence_score\n",
        "\n",
        "# Determine the optimal number of topics based on coherence scores\n",
        "coherence_scores = []\n",
        "num_topics_range = range(2, 6)\n",
        "for num_topics in num_topics_range:\n",
        "    # Fit LSA\n",
        "    lsa = TruncatedSVD(n_components=num_topics)\n",
        "    dtm_lsa = lsa.fit_transform(dtm)\n",
        "\n",
        "    # Calculate coherence score\n",
        "    coherence_scores.append(calculate_coherence_score(lsa, dtm_lsa))\n",
        "\n",
        "plt.figure(figsize=(8, 6))\n",
        "plt.plot(num_topics_range, coherence_scores, marker='o')\n",
        "plt.title(\"Coherence Scores vs. Number of Topics\")\n",
        "plt.xlabel(\"Number of Topics\")\n",
        "plt.ylabel(\"Coherence Score\")\n",
        "plt.grid(True)\n",
        "\n",
        "# Determine the optimal number of topics\n",
        "optimal_num_topics = num_topics_range[coherence_scores.index(max(coherence_scores))]\n",
        "plt.axvline(x=optimal_num_topics, color='r', linestyle='--', label=f'Optimal Topics: {optimal_num_topics}')\n",
        "plt.legend()\n",
        "\n",
        "plt.show()\n",
        "# Fit LSA with the optimal number of topics\n",
        "lsa = TruncatedSVD(n_components=optimal_num_topics)\n",
        "dtm_lsa = lsa.fit_transform(dtm)\n",
        "\n",
        "# Get the most important words for each topic\n",
        "terms = vectorizer.get_feature_names_out()\n",
        "topic_words = []\n",
        "for i, topic in enumerate(lsa.components_):\n",
        "    top_words_idx = topic.argsort()[-5:][::-1]\n",
        "    topic_words.append(' '.join([terms[idx] for idx in top_words_idx]))\n",
        "\n",
        "print(f\"Optimal number of topics: {optimal_num_topics}\")\n",
        "for i, words in enumerate(topic_words):\n",
        "    print(f\"Topic {i+1}: {words}\")\n",
        "\n",
        "\n",
        "\n"
      ]
    },
    {
      "cell_type": "markdown",
      "metadata": {
        "id": "2rgMZRDPBxRi"
      },
      "source": [
        "## (3) (10 points) Generate K topics by using  lda2vec, the number of topics K should be decided by the coherence score, then summarize what are the topics. You may refer the code here:\n",
        "\n",
        "https://nbviewer.org/github/cemoody/lda2vec/blob/master/examples/twenty_newsgroups/lda2vec/lda2vec.ipynb"
      ]
    },
    {
      "cell_type": "code",
      "source": [
        "!pip install pyLDAvis"
      ],
      "metadata": {
        "colab": {
          "base_uri": "https://localhost:8080/"
        },
        "id": "I2KvGfEyFt5o",
        "outputId": "4b41a825-6a43-4057-ce03-ec589d01acde"
      },
      "execution_count": 12,
      "outputs": [
        {
          "output_type": "stream",
          "name": "stdout",
          "text": [
            "Collecting pyLDAvis\n",
            "  Downloading pyLDAvis-3.4.1-py3-none-any.whl (2.6 MB)\n",
            "\u001b[2K     \u001b[90m━━━━━━━━━━━━━━━━━━━━━━━━━━━━━━━━━━━━━━━━\u001b[0m \u001b[32m2.6/2.6 MB\u001b[0m \u001b[31m10.4 MB/s\u001b[0m eta \u001b[36m0:00:00\u001b[0m\n",
            "\u001b[?25hCollecting numpy>=1.24.2 (from pyLDAvis)\n",
            "  Downloading numpy-1.26.1-cp310-cp310-manylinux_2_17_x86_64.manylinux2014_x86_64.whl (18.2 MB)\n",
            "\u001b[2K     \u001b[90m━━━━━━━━━━━━━━━━━━━━━━━━━━━━━━━━━━━━━━━━\u001b[0m \u001b[32m18.2/18.2 MB\u001b[0m \u001b[31m41.1 MB/s\u001b[0m eta \u001b[36m0:00:00\u001b[0m\n",
            "\u001b[?25hRequirement already satisfied: scipy in /usr/local/lib/python3.10/dist-packages (from pyLDAvis) (1.11.3)\n",
            "Collecting pandas>=2.0.0 (from pyLDAvis)\n",
            "  Downloading pandas-2.1.2-cp310-cp310-manylinux_2_17_x86_64.manylinux2014_x86_64.whl (12.3 MB)\n",
            "\u001b[2K     \u001b[90m━━━━━━━━━━━━━━━━━━━━━━━━━━━━━━━━━━━━━━━━\u001b[0m \u001b[32m12.3/12.3 MB\u001b[0m \u001b[31m48.8 MB/s\u001b[0m eta \u001b[36m0:00:00\u001b[0m\n",
            "\u001b[?25hRequirement already satisfied: joblib>=1.2.0 in /usr/local/lib/python3.10/dist-packages (from pyLDAvis) (1.3.2)\n",
            "Requirement already satisfied: jinja2 in /usr/local/lib/python3.10/dist-packages (from pyLDAvis) (3.1.2)\n",
            "Requirement already satisfied: numexpr in /usr/local/lib/python3.10/dist-packages (from pyLDAvis) (2.8.7)\n",
            "Collecting funcy (from pyLDAvis)\n",
            "  Downloading funcy-2.0-py2.py3-none-any.whl (30 kB)\n",
            "Requirement already satisfied: scikit-learn>=1.0.0 in /usr/local/lib/python3.10/dist-packages (from pyLDAvis) (1.2.2)\n",
            "Requirement already satisfied: gensim in /usr/local/lib/python3.10/dist-packages (from pyLDAvis) (4.3.2)\n",
            "Requirement already satisfied: setuptools in /usr/local/lib/python3.10/dist-packages (from pyLDAvis) (67.7.2)\n",
            "Requirement already satisfied: python-dateutil>=2.8.2 in /usr/local/lib/python3.10/dist-packages (from pandas>=2.0.0->pyLDAvis) (2.8.2)\n",
            "Requirement already satisfied: pytz>=2020.1 in /usr/local/lib/python3.10/dist-packages (from pandas>=2.0.0->pyLDAvis) (2023.3.post1)\n",
            "Collecting tzdata>=2022.1 (from pandas>=2.0.0->pyLDAvis)\n",
            "  Downloading tzdata-2023.3-py2.py3-none-any.whl (341 kB)\n",
            "\u001b[2K     \u001b[90m━━━━━━━━━━━━━━━━━━━━━━━━━━━━━━━━━━━━━━━━\u001b[0m \u001b[32m341.8/341.8 kB\u001b[0m \u001b[31m26.2 MB/s\u001b[0m eta \u001b[36m0:00:00\u001b[0m\n",
            "\u001b[?25hRequirement already satisfied: threadpoolctl>=2.0.0 in /usr/local/lib/python3.10/dist-packages (from scikit-learn>=1.0.0->pyLDAvis) (3.2.0)\n",
            "Requirement already satisfied: smart-open>=1.8.1 in /usr/local/lib/python3.10/dist-packages (from gensim->pyLDAvis) (6.4.0)\n",
            "Requirement already satisfied: MarkupSafe>=2.0 in /usr/local/lib/python3.10/dist-packages (from jinja2->pyLDAvis) (2.1.3)\n",
            "Requirement already satisfied: six>=1.5 in /usr/local/lib/python3.10/dist-packages (from python-dateutil>=2.8.2->pandas>=2.0.0->pyLDAvis) (1.16.0)\n",
            "Installing collected packages: funcy, tzdata, numpy, pandas, pyLDAvis\n",
            "  Attempting uninstall: numpy\n",
            "    Found existing installation: numpy 1.23.5\n",
            "    Uninstalling numpy-1.23.5:\n",
            "      Successfully uninstalled numpy-1.23.5\n",
            "  Attempting uninstall: pandas\n",
            "    Found existing installation: pandas 1.5.3\n",
            "    Uninstalling pandas-1.5.3:\n",
            "      Successfully uninstalled pandas-1.5.3\n",
            "\u001b[31mERROR: pip's dependency resolver does not currently take into account all the packages that are installed. This behaviour is the source of the following dependency conflicts.\n",
            "lida 0.0.10 requires fastapi, which is not installed.\n",
            "lida 0.0.10 requires kaleido, which is not installed.\n",
            "lida 0.0.10 requires python-multipart, which is not installed.\n",
            "lida 0.0.10 requires uvicorn, which is not installed.\n",
            "cupy-cuda11x 11.0.0 requires numpy<1.26,>=1.20, but you have numpy 1.26.1 which is incompatible.\n",
            "google-colab 1.0.0 requires pandas==1.5.3, but you have pandas 2.1.2 which is incompatible.\n",
            "numba 0.56.4 requires numpy<1.24,>=1.18, but you have numpy 1.26.1 which is incompatible.\u001b[0m\u001b[31m\n",
            "\u001b[0mSuccessfully installed funcy-2.0 numpy-1.26.1 pandas-2.1.2 pyLDAvis-3.4.1 tzdata-2023.3\n"
          ]
        }
      ]
    },
    {
      "cell_type": "code",
      "source": [
        "!pip install lda2vec"
      ],
      "metadata": {
        "colab": {
          "base_uri": "https://localhost:8080/"
        },
        "id": "GbPKXA-9GJCD",
        "outputId": "2ec2adb0-0b64-4f99-e73a-3d5a1f7b8f97"
      },
      "execution_count": 13,
      "outputs": [
        {
          "output_type": "stream",
          "name": "stdout",
          "text": [
            "Collecting lda2vec\n",
            "  Downloading lda2vec-0.16.10.tar.gz (13 kB)\n",
            "  Preparing metadata (setup.py) ... \u001b[?25l\u001b[?25hdone\n",
            "Building wheels for collected packages: lda2vec\n",
            "  Building wheel for lda2vec (setup.py) ... \u001b[?25l\u001b[?25hdone\n",
            "  Created wheel for lda2vec: filename=lda2vec-0.16.10-py3-none-any.whl size=14410 sha256=770dfa82b0750b17854bb7e356bcced841e00db5257a75c1a9f9ea2373cfda75\n",
            "  Stored in directory: /root/.cache/pip/wheels/1e/90/24/a97126c0fe8b479ba3bb79d3b18ebaab571a18d90bb2967ab6\n",
            "Successfully built lda2vec\n",
            "Installing collected packages: lda2vec\n",
            "Successfully installed lda2vec-0.16.10\n"
          ]
        }
      ]
    },
    {
      "cell_type": "code",
      "execution_count": 14,
      "metadata": {
        "colab": {
          "base_uri": "https://localhost:8080/",
          "height": 439
        },
        "id": "tEUwnRv5BxRi",
        "outputId": "cfb86788-513b-4c9b-d867-dd452ac941ee"
      },
      "outputs": [
        {
          "output_type": "stream",
          "name": "stderr",
          "text": [
            "/usr/local/lib/python3.10/dist-packages/tensorflow/python/framework/dtypes.py:35: DeprecationWarning: ml_dtypes.float8_e4m3b11 is deprecated. Use ml_dtypes.float8_e4m3b11fnuz\n",
            "  from tensorflow.tsl.python.lib.core import pywrap_ml_dtypes\n"
          ]
        },
        {
          "output_type": "error",
          "ename": "ImportError",
          "evalue": "ignored",
          "traceback": [
            "\u001b[0;31m---------------------------------------------------------------------------\u001b[0m",
            "\u001b[0;31mImportError\u001b[0m                               Traceback (most recent call last)",
            "\u001b[0;32m<ipython-input-14-671b3b63626a>\u001b[0m in \u001b[0;36m<cell line: 5>\u001b[0;34m()\u001b[0m\n\u001b[1;32m      3\u001b[0m \u001b[0;32mimport\u001b[0m \u001b[0mnumpy\u001b[0m \u001b[0;32mas\u001b[0m \u001b[0mnp\u001b[0m\u001b[0;34m\u001b[0m\u001b[0;34m\u001b[0m\u001b[0m\n\u001b[1;32m      4\u001b[0m \u001b[0;32mimport\u001b[0m \u001b[0mpyLDAvis\u001b[0m\u001b[0;34m\u001b[0m\u001b[0;34m\u001b[0m\u001b[0m\n\u001b[0;32m----> 5\u001b[0;31m \u001b[0;32mfrom\u001b[0m \u001b[0mlda2vec\u001b[0m \u001b[0;32mimport\u001b[0m \u001b[0mLDA2Vec\u001b[0m\u001b[0;34m\u001b[0m\u001b[0;34m\u001b[0m\u001b[0m\n\u001b[0m\u001b[1;32m      6\u001b[0m \u001b[0;32mfrom\u001b[0m \u001b[0mlda2vec\u001b[0m\u001b[0;34m.\u001b[0m\u001b[0mcorpus\u001b[0m \u001b[0;32mimport\u001b[0m \u001b[0mCorpus\u001b[0m\u001b[0;34m\u001b[0m\u001b[0;34m\u001b[0m\u001b[0m\n\u001b[1;32m      7\u001b[0m \u001b[0;32mimport\u001b[0m \u001b[0mlogging\u001b[0m\u001b[0;34m\u001b[0m\u001b[0;34m\u001b[0m\u001b[0m\n",
            "\u001b[0;31mImportError\u001b[0m: cannot import name 'LDA2Vec' from 'lda2vec' (/usr/local/lib/python3.10/dist-packages/lda2vec/__init__.py)",
            "",
            "\u001b[0;31m---------------------------------------------------------------------------\u001b[0;32m\nNOTE: If your import is failing due to a missing package, you can\nmanually install dependencies using either !pip or !apt.\n\nTo view examples of installing some common dependencies, click the\n\"Open Examples\" button below.\n\u001b[0;31m---------------------------------------------------------------------------\u001b[0m\n"
          ],
          "errorDetails": {
            "actions": [
              {
                "action": "open_url",
                "actionText": "Open Examples",
                "url": "/notebooks/snippets/importing_libraries.ipynb"
              }
            ]
          }
        }
      ],
      "source": [
        "# Write your code here\n",
        "# Import necessary libraries\n",
        "import numpy as np\n",
        "import pyLDAvis\n",
        "from lda2vec import LDA2Vec\n",
        "from lda2vec.corpus import Corpus\n",
        "import logging\n",
        "logging.getLogger('lda2vec').setLevel(30)\n",
        "\n",
        "# Preprocess the data and create a document-term matrix and vocabulary\n",
        "# You can use your own data preprocessing and corpus creation code here\n",
        "\n",
        "# Train lda2vec model with a range of K values\n",
        "coherence_scores = []\n",
        "best_lda2vec_model = None\n",
        "best_coherence_score = -1\n",
        "best_num_topics = 0\n",
        "\n",
        "for num_topics in range(2, 11):  # Experiment with different values of K\n",
        "    # Create lda2vec model\n",
        "    lda2vec_model = LDA2Vec(num_topics=num_topics, n_units=256, n_vocab=len(vocab), n_samples=15)\n",
        "\n",
        "    # Fit the model\n",
        "    lda2vec_model.fit(corpus, n_samples=500, n_threads=4)\n",
        "\n",
        "    # Calculate coherence score using Gensim's CoherenceModel\n",
        "    from gensim.models import CoherenceModel\n",
        "    corpus_transformed = lda2vec_model.transform(corpus)\n",
        "    coherence_model = CoherenceModel(texts=corpus, corpus=corpus_transformed, coherence='c_v')\n",
        "    coherence_score = coherence_model.get_coherence()\n",
        "\n",
        "    # Update the best model and score if needed\n",
        "    if coherence_score > best_coherence_score:\n",
        "        best_lda2vec_model = lda2vec_model\n",
        "        best_coherence_score = coherence_score\n",
        "        best_num_topics = num_topics\n",
        "\n",
        "# Choose the best K value and lda2vec model\n",
        "print(f\"Best number of topics (K): {best_num_topics}\")\n",
        "print(f\"Best coherence score: {best_coherence_score}\")\n",
        "\n",
        "# Summarize topics\n",
        "topics = best_lda2vec_model.prepare_topics(corpus)\n",
        "\n",
        "# Display the top words in each topic\n",
        "for i, topic in topics:\n",
        "    words, probs = zip(*topic)\n",
        "    topic_words = [vocab[word] for word in words]\n",
        "    print(f\"Topic {i + 1}: {', '.join(topic_words)}\")\n",
        "\n",
        "# Visualize the topics using pyLDAvis\n",
        "pyLDAvis.enable_notebook()\n",
        "pyLDAvis.gensim.prepare(best_lda2vec_model, corpus, dictionary)\n",
        "\n",
        "\n"
      ]
    },
    {
      "cell_type": "markdown",
      "metadata": {
        "id": "_nrUDtVMBxRj"
      },
      "source": [
        "## (4) (10 points) Generate K topics by using BERTopic, the number of topics K should be decided by the coherence score, then summarize what are the topics. You may refer the code here:\n",
        "\n",
        "https://colab.research.google.com/drive/1FieRA9fLdkQEGDIMYl0I3MCjSUKVF8C-?usp=sharing"
      ]
    },
    {
      "cell_type": "code",
      "execution_count": 16,
      "metadata": {
        "id": "MOU4SpuoBxRj"
      },
      "outputs": [],
      "source": []
    },
    {
      "cell_type": "markdown",
      "metadata": {
        "id": "zYpveAKnBxRj"
      },
      "source": [
        "## (5) (10 extra points) Compare the results generated by the four topic modeling algorithms, which one is better? You should explain the reasons in details."
      ]
    },
    {
      "cell_type": "code",
      "execution_count": 17,
      "metadata": {
        "colab": {
          "base_uri": "https://localhost:8080/",
          "height": 158
        },
        "id": "Zdl6lQCgBxRj",
        "outputId": "4ca17fe4-6a3d-4edf-bd38-e40d827e4737"
      },
      "outputs": [
        {
          "output_type": "error",
          "ename": "SyntaxError",
          "evalue": "ignored",
          "traceback": [
            "\u001b[0;36m  File \u001b[0;32m\"<ipython-input-17-4b61dab66f45>\"\u001b[0;36m, line \u001b[0;32m2\u001b[0m\n\u001b[0;31m    Based on particular use cases and needs, the optimal topic modeling approach among LDA (Latent Dirichlet Allocation), LSA (Latent Semantic Analysis), LDA2Vec, and BERTopic is selected.\u001b[0m\n\u001b[0m          ^\u001b[0m\n\u001b[0;31mSyntaxError\u001b[0m\u001b[0;31m:\u001b[0m invalid syntax\n"
          ]
        }
      ],
      "source": [
        "# Write your answer here (no code needed for this question)\n",
        "Based on particular use cases and needs, the optimal topic modeling approach among LDA (Latent Dirichlet Allocation), LSA (Latent Semantic Analysis), LDA2Vec, and BERTopic is selected.\n",
        "Latent Dirichlet Allocation (LDA),\n",
        "For topic modeling, LDA is a well-known and often used method. The found themes can be easily understood and analyzed due to their great interpretability.A strong foundation for modeling topics in text documents is provided by the probabilistic method of LDA.\n",
        "It can handle big datasets because of its processing efficiency.\n",
        "Semantic Analysis (Latent):\n",
        "Latent semantic associations are well-captured by LSA in text data.\n",
        "It helps to reduce dimensionality and enhance information retrieval in particular.\n",
        "LSA, however, might not be as comprehensible as LDA and might not be able to capture the finer details of an issue.\n",
        "LiDAR2Vec:\n",
        "Word embeddings and LDA are combined in LDA2Vec to possibly improve word context and topic associations.\n",
        "It is appropriate for jobs needing a deeper comprehension of context and has the ability to represent document-specific subjects.\n",
        "It is more difficult to deploy because customization and adjusting are frequently needed.\n",
        "The BERTopic\n",
        "To efficiently capture context and semantic information, BERTopic makes use of BERT embeddings.\n",
        "Because of its exceptional contextualization skills, it is a great option for jobs like content recommendation within documents.\n",
        "However, it could need a lot of resources and be computationally demanding.\n",
        "\n",
        "The optimal algorithm is determined by your priorities. For simplicity and interpretability, LDA is a dependable option. For semantic relationships, LSA works well.\n",
        "Although it might take more work, LDA2Vec can offer context-rich subjects. Although it requires a lot of processing power, BERTopic is effective for contextual understanding.\n",
        "Decision should be based on unique data, objectives, and available resources.\n",
        "\n"
      ]
    },
    {
      "cell_type": "code",
      "source": [],
      "metadata": {
        "id": "f3wU3B8LMChZ"
      },
      "execution_count": null,
      "outputs": []
    }
  ],
  "metadata": {
    "kernelspec": {
      "display_name": "Python 3 (ipykernel)",
      "language": "python",
      "name": "python3"
    },
    "language_info": {
      "codemirror_mode": {
        "name": "ipython",
        "version": 3
      },
      "file_extension": ".py",
      "mimetype": "text/x-python",
      "name": "python",
      "nbconvert_exporter": "python",
      "pygments_lexer": "ipython3",
      "version": "3.9.12"
    },
    "colab": {
      "provenance": [],
      "include_colab_link": true
    }
  },
  "nbformat": 4,
  "nbformat_minor": 0
}